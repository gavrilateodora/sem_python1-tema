{
 "cells": [
  {
   "cell_type": "markdown",
   "metadata": {},
   "source": [
    "# Seminar Python 1\n",
    "\n",
    "## 1. Introducere in limbajul Python\n",
    "Python este un limbaj interpretat, orientat-obiect;\n",
    "\n",
    "\n",
    "* A fost inventat în 1991 de Guido van Rossum;\n",
    "* Sunt disponibile două versiuni majore: Python 2 și Python 3 (programele nu sunt direct compatibile între versiuni). Acest curs se axează pe sintaxa Python 3.\n",
    "* Python este un limbaj de programare de ultimă generaţie, uşor de învăţat, ca urmare a sintaxei simple similare cu limba engleză;\n",
    "* Necesită mai puţine linii de cod în comparaţie cu alte limbaje;\n",
    "* Python rulează pe diferite sisteme de operare: Windows, Mac, Linux, Raspberry Pi etc.;\n",
    "* Limbajul poate fi utilizat în mai multe medii (IDE): Eclipse, PyCharm, Thonny, Netbeans etc.;\n",
    "* Conţine o bibliotecă vastă de pachete (biblioteci) specializate ( de ex. data science, inteligență artificială, grafică etc.)\n",
    "* Programele Python pot accesa baze de date de diverse tipuri;\n",
    "* Citeşte şi modifică fişiere;\n",
    "* Poate gestiona volume mari de date (big data) şi efectua operaţii matematice complexe.\n",
    "\n",
    "**Instalare**\n",
    "Ultima versiune Python poate fi descărcată aici: https://www.python.org/downloads/. \n",
    "Pentru IDE:  \n",
    "* accesaţi: www.eclipse.org. Efectuaţi apoi setarea IDE pentru Python ca în https://www.ics.uci.edu/~pattis/common/handouts/pythoneclipsejava/eclipsepython%20neon.html (de asemenea, această versiune de Eclipse poate fi utilizată);\n",
    "* sau accesaţi: https://www.jetbrains.com/pycharm/download/#section=windows. \n",
    "\n",
    "\n",
    "**Linkuri utile:**  \n",
    "Documentaţie:https://www.python.org/about/gettingstarted/\n",
    "https://www.tutorialspoint.com/python/index.htm\n",
    "https://www.w3schools.com/python/default.asp  \n",
    "Exemple:https://www.programiz.com/python-programming/examples  \n",
    "Pachete:https://pip.pypa.io/en/stable/installing/  \n",
    "Rezolvări:https://stackoverflow.com  "
   ]
  },
  {
   "cell_type": "markdown",
   "metadata": {},
   "source": [
    "**Afișare cu funcția `print()`,** operatorul +  \n",
    "Funcția `print()` afișază una sau mai multe valori (expresii) pe ecran.  \n",
    "Pentru a combina un şir de caractere cu o variabilă, utilizăm +, care are rolul de a concatena:"
   ]
  },
  {
   "cell_type": "markdown",
   "metadata": {},
   "source": [
    "**_Selectează celulele cu instrucțiuni și apasă Shift+Enter pentru a executa codul !_**"
   ]
  },
  {
   "cell_type": "code",
   "execution_count": null,
   "metadata": {
    "collapsed": true,
    "jupyter": {
     "outputs_hidden": true
    }
   },
   "outputs": [],
   "source": [
    "#Exemplul 1\n",
    "x = \"Pachete Software\"\n",
    "print(\"Seminar \" + x)"
   ]
  },
  {
   "cell_type": "code",
   "execution_count": null,
   "metadata": {},
   "outputs": [],
   "source": [
    "#Exemplul 2\n",
    "x = \"Seminar \"\n",
    "y = \"Pachete Software\"\n",
    "z =  x + y\n",
    "print(z)"
   ]
  },
  {
   "cell_type": "markdown",
   "metadata": {},
   "source": [
    "Pentru valori numerice, + acţionează ca operator matematic:"
   ]
  },
  {
   "cell_type": "code",
   "execution_count": null,
   "metadata": {},
   "outputs": [],
   "source": [
    "#Exemplul 3\n",
    "x = 5\n",
    "y = 10\n",
    "print(x + y)"
   ]
  },
  {
   "cell_type": "markdown",
   "metadata": {},
   "source": [
    "Însumarea unui număr cu un şir de caractere produce o eroare:"
   ]
  },
  {
   "cell_type": "code",
   "execution_count": null,
   "metadata": {},
   "outputs": [],
   "source": [
    "#Exemplul 4\n",
    "x = 5\n",
    "y = \"Python\"\n",
    "print(x + y)"
   ]
  },
  {
   "cell_type": "markdown",
   "metadata": {},
   "source": [
    "La utilizarea funcției `print()` cu mai multe argumente, valorile sunt separate cu spațiu. La final se introduce un caracter newline (\\\\n).  \n",
    "Acești delimitatori impliciți se pot schimba cu argumentele `sep` și `end`."
   ]
  },
  {
   "cell_type": "code",
   "execution_count": null,
   "metadata": {},
   "outputs": [],
   "source": [
    "#Exemplul 5\n",
    "print('Python', 'versiunea', 3.8)\n",
    "print('A doua linie de text.')"
   ]
  },
  {
   "cell_type": "code",
   "execution_count": null,
   "metadata": {},
   "outputs": [],
   "source": [
    "#Exemplul 6\n",
    "print('Python', 'versiunea', 3.8, sep='_', end='|')\n",
    "print('A doua linie de text.')"
   ]
  },
  {
   "cell_type": "markdown",
   "metadata": {},
   "source": [
    "## 2. Elemente de programare: tipuri de date, variabile, expresii. Operatori, liste (vectori), structuri alternative și repetitive\n",
    "### 2.1 Tipuri de date\n",
    "#### 2.1.1 Tipuri de date elementare:\n",
    "* int\n",
    "* float\n",
    "* complex\n",
    "* bool\n",
    "* str\n",
    "Variabilele Python sunt create prin atribuirea unei valori. Tipul de date al variabilei este implicit tipul valorii utilizate.  \n",
    "Variabilele nu necesită declarare (!)."
   ]
  },
  {
   "cell_type": "code",
   "execution_count": null,
   "metadata": {},
   "outputs": [],
   "source": [
    "#Exemplul 7\n",
    "x = 1    # int\n",
    "y = 2.8  # float\n",
    "z = 2+3j   # complex\n",
    "b = True # bool\n",
    "s = 'Python' #string"
   ]
  },
  {
   "cell_type": "markdown",
   "metadata": {},
   "source": [
    "Pentru a verifica tipul de dată utilizăm funcția `type()`:"
   ]
  },
  {
   "cell_type": "code",
   "execution_count": null,
   "metadata": {},
   "outputs": [],
   "source": [
    "#Exemplul 8\n",
    "print(type(x))\n",
    "print(type(y))\n",
    "print(type(z))\n",
    "print(type(b))\n",
    "print(type(s))"
   ]
  },
  {
   "cell_type": "markdown",
   "metadata": {},
   "source": [
    "Tipul **`int`**  (integer) reprezintă un număr întreg, pozitiv sau negativ, fără zecimale, de lungime nelimitată."
   ]
  },
  {
   "cell_type": "code",
   "execution_count": null,
   "metadata": {},
   "outputs": [],
   "source": [
    "#Exemplul 9\n",
    "x = 1\n",
    "y = 35656222554887711\n",
    "z = -3255522\n",
    "print(type(x))\n",
    "print(type(y))\n",
    "print(type(z))"
   ]
  },
  {
   "cell_type": "markdown",
   "metadata": {},
   "source": [
    "Tipul **`float`** reprezintă un număr pozitiv sau negativ, cu una sau mai multe zecimale."
   ]
  },
  {
   "cell_type": "code",
   "execution_count": null,
   "metadata": {},
   "outputs": [],
   "source": [
    "#Exemplul 10\n",
    "x = 1.10\n",
    "y = 1.0\n",
    "z = -35.59\n",
    "print(type(x))\n",
    "print(type(y))\n",
    "print(type(z))"
   ]
  },
  {
   "cell_type": "code",
   "execution_count": null,
   "metadata": {},
   "outputs": [],
   "source": [
    "#Exemplul 11\n",
    "x = 35e3\n",
    "y = 12E4\n",
    "z = -87.7e100\n",
    "print(type(x))\n",
    "print(type(y))\n",
    "print(type(z)) "
   ]
  },
  {
   "cell_type": "markdown",
   "metadata": {},
   "source": [
    "Tipul (**`complex`**) reprezintă numere complexe; conţine \"j\" pentru partea imaginară."
   ]
  },
  {
   "cell_type": "code",
   "execution_count": null,
   "metadata": {},
   "outputs": [],
   "source": [
    "#Exemplul 12\n",
    "x = 3+5j\n",
    "y = 5j\n",
    "z = -5j\n",
    "print(type(x))\n",
    "print(type(y))\n",
    "print(type(z))"
   ]
  },
  {
   "cell_type": "markdown",
   "metadata": {},
   "source": [
    "**Funcții de conversie a tipurilor de date / constructori**  \n",
    "Atunci când se doreşte conversia unei valori la un anumit tip de date, utilizăm următoarele funcții (constructori de tipuri):\n",
    "\n",
    "* `int()` – returnează o valoare int pe baza argumentului transmis, care poate fi int, float sau string. Șirul de caractere trebuie să reprezinte un număr valid, altfel se produce o eroare;\n",
    "* `float()` – similar, returnează o valoare float;  \n",
    "* `str()` – convertește alte tipuri de date (ca int, float) în șiruri de caractere;  \n",
    "* `bool()` – convertește alte tipuri de date în valori `True` sau `False` (pt. reguli vezi acest [link](https://docs.python.org/3/library/stdtypes.html#truth))"
   ]
  },
  {
   "cell_type": "code",
   "execution_count": null,
   "metadata": {},
   "outputs": [],
   "source": [
    "#Exemplul 13\n",
    "x = int(1)   # 1\n",
    "y = int(2.8) # 2\n",
    "z = int(\"3\") # 3\n",
    "print(x, y, z, sep='\\n')"
   ]
  },
  {
   "cell_type": "code",
   "execution_count": null,
   "metadata": {},
   "outputs": [],
   "source": [
    "#Exemplul 14\n",
    "x = float(1)     # 1.0\n",
    "y = float(2.8)   # 2.8\n",
    "z = float(\"3\")   # 3.0\n",
    "w = float(\"4.2\") # 4.2\n",
    "print(x, y, z,w, sep='\\n')"
   ]
  },
  {
   "cell_type": "code",
   "execution_count": null,
   "metadata": {},
   "outputs": [],
   "source": [
    "#Exemplul 15\n",
    "x = str(\"s1\") # 's1' \n",
    "y = str(2)    # '2'\n",
    "z = str(3.0)  # '3.0'\n",
    "print(x, y, z, sep='\\n')"
   ]
  },
  {
   "cell_type": "code",
   "execution_count": null,
   "metadata": {},
   "outputs": [],
   "source": [
    "#Exemplul 16\n",
    "b1 = bool(22)\n",
    "b2 = bool(0)\n",
    "b3 = bool('Text')\n",
    "b4 = bool('')\n",
    "print(b1, b2, b3, b4, sep='\\n')"
   ]
  },
  {
   "cell_type": "markdown",
   "metadata": {},
   "source": [
    "#### 2.1.2 Șiruri de caractere și delimitatori – \"…\" sau '...'.\n",
    "\n",
    "Valorile literal de tip șir de caractere se scriu între ghilimele sau apostrof. Dacă șirul conține un caracter de acest tip (de ex. apostrof), trebuie folosit celălalt delimitator (ghilimele).  \n",
    "O altă posibilitate este folosirea secvențelor escape \\\\' or \\\\\".\n",
    "Apostroful triplu ''' ... ''' poate fi folosit pentru șiruri cu linii multiple."
   ]
  },
  {
   "cell_type": "code",
   "execution_count": null,
   "metadata": {},
   "outputs": [],
   "source": [
    "#Exemplul 17\n",
    "#s1 = 'Jerry's Pizza' # eroare; comentați (#) linia și rulați din nou.\n",
    "s2 = \"Jerry's Pizza\"\n",
    "s3 = '\"OK\", spuse ea.'\n",
    "s4 = \"El a zis \\\"Bine\\\".\"\n",
    "s5 = '''Șirurile cu apostrof triplu pot conține ' și \",\n",
    "precum și text pe mai multe linii.'''\n",
    "print(s2, s3, s4, s5, sep='\\n')"
   ]
  },
  {
   "cell_type": "markdown",
   "metadata": {},
   "source": [
    "Ca în alte limbaje de programare, şirurile de caractere în Python sunt considerate ca \"vectori de caractere\". Parantezele `[ ]` sunt utilizate pentru a accesa elementele şirului pe baza unui index (poziție) între 0 și lungimea șirului -1.  \n",
    "Indexul poate fi negativ - de ex. `sir[-1]` este ultimul caracter din șir.  \n",
    "Notația slice`[m:n]` realizează extragerea de subșiruri. Se preiau caracterele de la poziția m până la poziția n-1. Dacă m lipsește `[:n]`, subșirul pornește de la primul caracter; de asemenea, dacă n lipsește `[m:]`, subșirul se încheie cu ultimul caracter."
   ]
  },
  {
   "cell_type": "code",
   "execution_count": null,
   "metadata": {},
   "outputs": [],
   "source": [
    "#Exemplul 18\n",
    "a = \"Seminar Pachete Software\"\n",
    "print(a[1])\n",
    "print(a[4:8])\n",
    "print(a[-1])\n",
    "print(a[:4])\n",
    "print(a[-7:])\n",
    "print(a[:])\n",
    "print(a[::2]) #notație slice cu pasul 2"
   ]
  },
  {
   "cell_type": "markdown",
   "metadata": {},
   "source": [
    "Șirurile sunt obiecte, deci se pot apela metode pentru prelucrarea lor, în forma:  \n",
    "`var_string.metoda( arg )`  \n",
    "Metoda `strip()` elimină spaţiile de la începutul și sfârșitul șirului:"
   ]
  },
  {
   "cell_type": "code",
   "execution_count": null,
   "metadata": {},
   "outputs": [],
   "source": [
    "#Exemplul 19\n",
    "a = \"            Seminar Pachete Software  \"\n",
    "print(a.strip())\n",
    "print(a)"
   ]
  },
  {
   "cell_type": "markdown",
   "metadata": {},
   "source": [
    "Alte funcții / metode pentru șiruri:  \n",
    "Funcția `len()` returnează lungimea şirului;  \n",
    "Metoda `lower()` transformă şirul în litere mici;  \n",
    "Metoda `upper()` transformă şirul în litere mari;  \n",
    "Metoda `replace()` înlocuieşte un (sub)şir cu un alt şir;  \n",
    "Metoda `split()` împarte şirul în mai multe şiruri după un separator. "
   ]
  },
  {
   "cell_type": "code",
   "execution_count": null,
   "metadata": {},
   "outputs": [],
   "source": [
    "#Exemplul 20\n",
    "a = \"Seminar Pachete Software\"\n",
    "print(len(a))\n",
    "print(a.lower()) \n",
    "print(a.upper())\n",
    "print(a.replace(\" \", \"\"))\n",
    "print(a.split(\" \")) # generează o listă de cuvinte"
   ]
  },
  {
   "cell_type": "markdown",
   "metadata": {},
   "source": [
    "### 2.2 Variabile\n",
    "Codul Python este case-sensitive, lucru valabil și pentru numele de variabile.  \n",
    "Denumirea variabilelor trebuie să înceapă cu o literă sau underscore (nu cu o cifră) şi poate conţine numai caractere alfanumerice: de la A-Z, a-z, 0-9 şi underscore.  \n",
    "Variabilele nu se declară explicit, ci prin atribuire."
   ]
  },
  {
   "cell_type": "code",
   "execution_count": null,
   "metadata": {},
   "outputs": [],
   "source": [
    "#Exemplul 21\n",
    "x = 5\n",
    "y = \"Python\"\n",
    "print(x)\n",
    "print(y)"
   ]
  },
  {
   "cell_type": "markdown",
   "metadata": {},
   "source": [
    "Tipul de data al variabilei poate fi schimbat ulterior prin atribuirea unei valori de alt tip (!)."
   ]
  },
  {
   "cell_type": "code",
   "execution_count": null,
   "metadata": {},
   "outputs": [],
   "source": [
    "#Exemplul 22\n",
    "x = 4 # x de tip int\n",
    "print(x, type(x))\n",
    "x = \"Python\" # x este acum de tip str\n",
    "print(x, type(x))"
   ]
  },
  {
   "cell_type": "markdown",
   "metadata": {},
   "source": [
    "### 2.3 Structuri de date (colecţii de date)\n",
    "#### 2.3.1 Liste\n",
    "Listele sunt colecţii de date care pot fi ordonate şi modificate (eng. _mutable_). De asemenea, listele permit elemente identice. Listele sunt reprezentate utilizând [ ], iar elementele sunt separate cu virgulă."
   ]
  },
  {
   "cell_type": "markdown",
   "metadata": {},
   "source": [
    "Crearea şi afişarea listelor:"
   ]
  },
  {
   "cell_type": "code",
   "execution_count": null,
   "metadata": {},
   "outputs": [],
   "source": [
    "#Exemplul 23\n",
    "lista1 = [\"laptop\", \"creion\", \"flipchart\"]\n",
    "lista2 = [ 1, 'abc', 2.5 ]\n",
    "lista3 = [] #listă vidă\n",
    "print(lista1)"
   ]
  },
  {
   "cell_type": "markdown",
   "metadata": {},
   "source": [
    "Accesarea elementelor din listă se realizează prin index:"
   ]
  },
  {
   "cell_type": "code",
   "execution_count": null,
   "metadata": {},
   "outputs": [],
   "source": [
    "#Exemplul 24\n",
    "lista = [\"laptop\", \"creion\", \"flipchart\"]\n",
    "print(lista[1])"
   ]
  },
  {
   "cell_type": "markdown",
   "metadata": {},
   "source": [
    "Modificarea unui element:"
   ]
  },
  {
   "cell_type": "code",
   "execution_count": null,
   "metadata": {},
   "outputs": [],
   "source": [
    "#Exemplul 25\n",
    "lista[1] = \"marker\"\n",
    "print(lista)"
   ]
  },
  {
   "cell_type": "markdown",
   "metadata": {},
   "source": [
    "Funcție `len()` determină numărul de elemente al listei."
   ]
  },
  {
   "cell_type": "code",
   "execution_count": null,
   "metadata": {},
   "outputs": [],
   "source": [
    "#Exemplul 26\n",
    "#lista = [\"laptop\", \"creion\", \"flipchart\"]\n",
    "print(len(lista))"
   ]
  },
  {
   "cell_type": "markdown",
   "metadata": {},
   "source": [
    "Pentru a adăuga un element în listă (la capăt), utilizăm metoda `append()`."
   ]
  },
  {
   "cell_type": "code",
   "execution_count": null,
   "metadata": {},
   "outputs": [],
   "source": [
    "#Exemplul 27\n",
    "#lista = [\"laptop\", \"creion\", \"flipchart\"]\n",
    "lista.append(\"rucsac\")\n",
    "print(lista)"
   ]
  },
  {
   "cell_type": "markdown",
   "metadata": {},
   "source": [
    "Pentru a insera un element în listă la o anumită poziţie, utilizăm metoda `insert()`."
   ]
  },
  {
   "cell_type": "code",
   "execution_count": null,
   "metadata": {},
   "outputs": [],
   "source": [
    "#Exemplul 28\n",
    "#lista = ['laptop', 'creion', 'flipchart', 'rucsac']\n",
    "lista.insert(1, \"telefon\")\n",
    "print(lista)"
   ]
  },
  {
   "cell_type": "markdown",
   "metadata": {},
   "source": [
    "Eliminarea unui element se realizează cu metoda `remove()`:"
   ]
  },
  {
   "cell_type": "code",
   "execution_count": null,
   "metadata": {},
   "outputs": [],
   "source": [
    "#Exemplul 29\n",
    "#lista = ['laptop', 'telefon', 'marker', 'flipchart', 'rucsac']\n",
    "lista.remove(\"laptop\")\n",
    "print(lista) "
   ]
  },
  {
   "cell_type": "markdown",
   "metadata": {},
   "source": [
    "Metoda `pop()` elimină și returnează ultimul element, sau elementul de la indexul specificat. Împreună cu `append()` se poate utiliza pentru a implementa o structură de tip stivă (LIFO)."
   ]
  },
  {
   "cell_type": "code",
   "execution_count": null,
   "metadata": {},
   "outputs": [],
   "source": [
    "#Exemplul 30\n",
    "#lista = ['telefon', 'marker', 'flipchart', 'rucsac']\n",
    "print(lista.pop())\n",
    "print(lista)"
   ]
  },
  {
   "cell_type": "markdown",
   "metadata": {},
   "source": [
    "Pentru ștergere se poate folosi și __instrucțiunea__ `del`:"
   ]
  },
  {
   "cell_type": "code",
   "execution_count": null,
   "metadata": {},
   "outputs": [],
   "source": [
    "#Exemplul 31\n",
    "#lista = ['telefon', 'marker', 'flipchart']\n",
    "del lista[0]\n",
    "print(lista)"
   ]
  },
  {
   "cell_type": "markdown",
   "metadata": {},
   "source": [
    "`del` poate șterge întreaga listă:"
   ]
  },
  {
   "cell_type": "code",
   "execution_count": null,
   "metadata": {},
   "outputs": [],
   "source": [
    "#Exemplul 32\n",
    "#lista = [\"laptop\", \"creion\", \"flipchart\"]\n",
    "del lista\n",
    "print(lista) #eroare: variabila nu (mai) este definită"
   ]
  },
  {
   "cell_type": "markdown",
   "metadata": {},
   "source": [
    "Metoda `clear()` goleşte lista:"
   ]
  },
  {
   "cell_type": "code",
   "execution_count": null,
   "metadata": {},
   "outputs": [],
   "source": [
    "#Exemplul 33\n",
    "lista = [\"laptop\", \"creion\", \"flipchart\"]\n",
    "lista.clear()\n",
    "print(lista)"
   ]
  },
  {
   "cell_type": "markdown",
   "metadata": {},
   "source": [
    "Este posibilă crearea unei liste prin intermediul constructorului `list()`, din alte tipuri de obiecte (șir, tuplu, set etc.)"
   ]
  },
  {
   "cell_type": "code",
   "execution_count": null,
   "metadata": {},
   "outputs": [],
   "source": [
    "#Exemplul 34\n",
    "lista = list((\"laptop\", \"creion\", \"flipchart\")) #creare listă din tuplu\n",
    "print(lista)"
   ]
  },
  {
   "cell_type": "markdown",
   "metadata": {},
   "source": [
    "**Metode pentru liste**\n",
    "\n",
    "|    Metoda       |    Descriere                                                 |\n",
    "|-----------------|--------------------------------------------------------------|\n",
    "|    append()     |    Adaugă un element la sfârşitul listei                     |\n",
    "|    clear()      |    Elimină toate elementele listei                           |\n",
    "|    copy()       |    Creează o copie a listei                                   |\n",
    "|    count()      |    Returnează numărul de apariţii al elementului în listă    |\n",
    "|    extend()     |    Adăugă elemente din altă listă (obiect iterabil), la sfârşitul listei.                  |\n",
    "|    index()      |    Returnează indexul primului element cu valoarea specificată                     |\n",
    "|    insert()     |    Adaugă un element la poziţia specificată                  |\n",
    "|    pop()        |    Extrage elementul de la poziţia specificată / ultimul.              |\n",
    "|    remove()     |    Elimină elementul specificat                              |\n",
    "|    reverse()    |    Inversează ordinea elementelor în listă                   |\n",
    "|    sort()       |    Sortează lista (modifică ordinea elementelor). Funcția sorted() returnează o copie sortată a listei (lista inițială nu este modificată).                                          |"
   ]
  },
  {
   "cell_type": "code",
   "execution_count": null,
   "metadata": {},
   "outputs": [],
   "source": [
    "#Exercițiul 0.a: Sortați lista folosind list.sort() și sorted();\n",
    "#Cum se poate schimba direcția de sortare (descrescător) ?\n",
    "#Căutați detalii în documentația online.\n",
    "\n",
    "#...scrieți instrucțiunile aici...#\n"
   ]
  },
  {
   "cell_type": "markdown",
   "metadata": {},
   "source": [
    "#### 2.3.2 Tupluri\n",
    "Tuplurile sunt colecţii de date ordonate şi nemodificabile (eng. _immutable_). Ca și listele, tuplurile permit elemente identice. Tuplurile sunt reprezentate utilizând paranteze ( )."
   ]
  },
  {
   "cell_type": "markdown",
   "metadata": {},
   "source": [
    "Crearea şi afişarea unui tuplu, accesarea elementelor prin index:"
   ]
  },
  {
   "cell_type": "code",
   "execution_count": null,
   "metadata": {},
   "outputs": [],
   "source": [
    "#Exemplul 35\n",
    "tup = (\"laptop\", \"creion\", \"flipchart\")\n",
    "print(tup) \n",
    "print(tup[1])"
   ]
  },
  {
   "cell_type": "markdown",
   "metadata": {},
   "source": [
    "Modificarea unui element nu este posibilă - produce o eroare."
   ]
  },
  {
   "cell_type": "code",
   "execution_count": null,
   "metadata": {},
   "outputs": [],
   "source": [
    "#Exemplul 36\n",
    "tup[1] = \"marker\" # eroare !"
   ]
  },
  {
   "cell_type": "markdown",
   "metadata": {},
   "source": [
    "Metode pentru tupluri:\n",
    "\n",
    "|    Metoda     |    Descriere                                                 |\n",
    "|---------------|--------------------------------------------------------------|\n",
    "|    count()    |    Returnează numărul de apariţii al elementului în tuplu    |\n",
    "|    index()    |    Returnează poziţia unui element în tuplu                  |"
   ]
  },
  {
   "cell_type": "code",
   "execution_count": null,
   "metadata": {},
   "outputs": [],
   "source": [
    "#Exemplul 37\n",
    "#tup = (\"laptop\", \"creion\", \"flipchart\")\n",
    "tup = tup + ('creion',) #concatenare cu tuplu cu un singur element\n",
    "print(tup)\n",
    "print(tup.count('creion'))\n",
    "print(tup.index('flipchart'))"
   ]
  },
  {
   "cell_type": "markdown",
   "metadata": {},
   "source": [
    "#### 2.3.3 Seturi (mulțimi)\n",
    "Seturile sunt colecţii de date neordonate şi neindexate. Nu sunt acceptate elemente identice. Seturile sunt reprezentate prin { }. Pot fi create și cu ajutorul constructorului `set()`.\n",
    "Obiectele set permit operații pe mulțimi, ca reuniunea, intersecția, diferența și diferența simetrică."
   ]
  },
  {
   "cell_type": "code",
   "execution_count": null,
   "metadata": {},
   "outputs": [],
   "source": [
    "#Exemplul 38\n",
    "set1 = {\"laptop\", \"creion\", \"flipchart\"}\n",
    "print(set1)\n",
    "\n",
    "lista1 = [2, 7, 3, 2]\n",
    "set2 = set(lista1)\n",
    "print(set2)"
   ]
  },
  {
   "cell_type": "markdown",
   "metadata": {},
   "source": [
    "Accesarea elementelor din set nu este posibilă, dar elementele pot fi parcurse cu instrucțiunea `for`;  existenţa unui element poate fi verificată cu operatorul `in`.\n",
    "\n",
    "Nu pot fi modificate elementele unui set, însă pot fi adăugate elemente noi cu metoda `add()`.\n",
    "\n",
    "**Metode pentru seturi**\n",
    "\n",
    "|    Metoda                           |    Descriere                                                                         |\n",
    "|-------------------------------------|--------------------------------------------------------------------------------------|\n",
    "|    add()                            |    Adaugă un element                                                                 |\n",
    "|    clear()                          |    Elimină toate elementele setului                                                  |\n",
    "|    copy()                           |    Returnează o copie a setului                                                      |\n",
    "|    difference()                     |    Returnează un set reprezentând diferenţa dintre două sau mai multe seturi         |\n",
    "|    difference_update()              |    Elimină elementele dintr-un set care sunt conţinute de un alt set   specificat    |\n",
    "|    discard()                        |    Elimină un element specificat                                                     |\n",
    "|    intersection()                   |    Returnează un set reprezentând intersecţia a două seturi                          |\n",
    "|    intersection_update()            |    Elimină elementele dintr-un set care nu sunt în alt set                           |\n",
    "|    isdisjoint()                     |    Arată dacă două seturi sunt disjuncte (nu au elemente comune)                       |\n",
    "|    issubset()                       |    Arată dacă un set este inclus într-un alt set (submulțime)                           |\n",
    "|    issuperset()                     |    Arată dacă un set conţine un alt set sau nu                                       |\n",
    "|    pop()                            |    Extrage un element                                                                |\n",
    "|    remove()                         |    Elimină elementul specificat                                                      |\n",
    "|    symmetric_difference()           |    Returnează un set cu elementele necomune celor doua seturi                         |\n",
    "|    symmetric_difference_update()    |    Inserează într-un set diferenţele dintre două seturi                              |\n",
    "|    union()                          |    Returnează un set reprezentând reuniunea a două seturi                            |\n",
    "|    update()                         |    Actualizează setul cu reuniunea dintre un set şi altele                           |"
   ]
  },
  {
   "cell_type": "code",
   "execution_count": 17,
   "metadata": {},
   "outputs": [
    {
     "name": "stdout",
     "output_type": "stream",
     "text": [
      "{'pere', 'capsuni', 'cirese', 'mere'}\n",
      "set()\n",
      "Al doilea set este:  {'pere', 'cirese', 'mere'}\n",
      "{'banana', 'cherry'}\n",
      "{'banana', 'cherry'}\n",
      "{'pere', 'cirese'}\n",
      "{'mere'}\n",
      "{'mere'}\n",
      "True\n",
      "True\n",
      "True\n",
      "['morcov', 'cartof']\n",
      "['morcov', 'varza']\n",
      "{'pere', 'pomelo', 'cirese', 'capsuni'}\n",
      "{'pomelo', 'pere', 'cirese', 'capsuni'}\n",
      "{'f', 'd', 'c', 'a', 'b', 'e'}\n",
      "{1, 2, 3, 'a', 'b'}\n"
     ]
    }
   ],
   "source": [
    "#Exercițiul 0.b: creați obiecte set și utilizați câteva metode, la alegere\n",
    "\n",
    "#Exemple cu fiecare metoda \n",
    "#add()\n",
    "set1 = {\"mere\", \"pere\", \"cirese\"}\n",
    "set1.add(\"capsuni\")\n",
    "print(set1)\n",
    "\n",
    "#clear()\n",
    "set1 = {\"mere\", \"pere\", \"cirese\"}\n",
    "set1.clear()\n",
    "print(set1)\n",
    "\n",
    "#copy()\n",
    "set1 = {\"mere\", \"pere\", \"cirese\"}\n",
    "set2 = set1.copy()\n",
    "print(\"Al doilea set este: \", set2)\n",
    "\n",
    "#difference()\n",
    "x = {\"apple\", \"banana\", \"cherry\"}\n",
    "y = {\"google\", \"microsoft\", \"apple\"}\n",
    "z = x.difference(y)\n",
    "print(z)\n",
    "\n",
    "#difference_update()\n",
    "x = {\"apple\", \"banana\", \"cherry\"}\n",
    "y = {\"google\", \"microsoft\", \"apple\"}\n",
    "x.difference_update(y)\n",
    "print(x)\n",
    "\n",
    "#discard()\n",
    "set1 = {\"mere\", \"pere\", \"cirese\"}\n",
    "set1.discard(\"mere\")\n",
    "print(set1)\n",
    "\n",
    "#intersection()\n",
    "x = {\"mere\", \"pere\", \"cirese\"}\n",
    "y = {\"pomelo\", \"capsuni\", \"mere\"}\n",
    "z = x.intersection(y)\n",
    "print(z)\n",
    "\n",
    "#intersection_update()\n",
    "x = {\"mere\", \"pere\", \"cirese\"}\n",
    "y = {\"pomelo\", \"capsuni\", \"mere\"}\n",
    "x.intersection_update(y)\n",
    "print(x)\n",
    "\n",
    "#isdisjoint()\n",
    "x = {\"mere\", \"pere\", \"cirese\"}\n",
    "y = {\"google\", \"microsoft\", \"facebook\"}\n",
    "z = x.isdisjoint(y)\n",
    "print(z)\n",
    "\n",
    "#issubset()\n",
    "x = {\"a\", \"b\", \"c\"}\n",
    "y = {\"f\", \"e\", \"d\", \"c\", \"b\", \"a\"}\n",
    "z = x.issubset(y)\n",
    "print(z)\n",
    "\n",
    "#issuperset()\n",
    "x = {\"f\", \"e\", \"d\", \"c\", \"b\", \"a\"}\n",
    "y = {\"a\", \"b\", \"c\"}\n",
    "z = x.issuperset(y)\n",
    "print(z)\n",
    "\n",
    "#pop()\n",
    "legume = ['morcov', 'varza', 'cartof']\n",
    "legume.pop(1)\n",
    "print(legume)\n",
    "\n",
    "#remove()\n",
    "legume = ['morcov', 'varza', 'cartof']\n",
    "legume.remove(\"cartof\")\n",
    "print(legume)\n",
    "\n",
    "#symmetric_difference()\n",
    "x = {\"mere\", \"pere\", \"cirese\"}\n",
    "y = {\"pomelo\", \"capsuni\", \"mere\"}\n",
    "z = x.symmetric_difference(y)\n",
    "print(z)\n",
    "\n",
    "#symmetric_difference_update()\n",
    "x = {\"mere\", \"pere\", \"cirese\"}\n",
    "y = {\"pomelo\", \"capsuni\", \"mere\"}\n",
    "x.symmetric_difference_update(y)\n",
    "print(x)\n",
    "\n",
    "#union()\n",
    "x = {\"f\", \"e\", \"d\"}\n",
    "y = {\"a\", \"b\", \"c\"}\n",
    "z = x.union(y)\n",
    "print(z)\n",
    "\n",
    "#update()\n",
    "x = {'a', 'b'}\n",
    "y = {1, 2, 3}\n",
    "x.update(y)\n",
    "print(x)"
   ]
  },
  {
   "cell_type": "markdown",
   "metadata": {},
   "source": [
    "#### 2.3.4 Dicționare\n",
    "Dicționarele sunt colecţii de date neordonate, modificabile şi indexate. Nu sunt admise elemente identice. Dicţionarele sunt reprezentate prin { }, și conțin perechi cheie : valoare."
   ]
  },
  {
   "cell_type": "markdown",
   "metadata": {},
   "source": [
    "Crearea şi afişarea unui dicţionar:"
   ]
  },
  {
   "cell_type": "code",
   "execution_count": null,
   "metadata": {},
   "outputs": [],
   "source": [
    "#Exemplul 39\n",
    "dict = {\"laptop\":\"IBM\", \"creion\":\"Faber Castell\", \"flipchart\":\"M3\"}\n",
    "print(dict)"
   ]
  },
  {
   "cell_type": "markdown",
   "metadata": {},
   "source": [
    "Accesarea elementelor din dicţionar se realizează prin cheie sau prin metoda `get()`:"
   ]
  },
  {
   "cell_type": "code",
   "execution_count": null,
   "metadata": {},
   "outputs": [],
   "source": [
    "#Exemplul 40\n",
    "#dict = {\"laptop\":\"IBM\", \"creion\":\"Faber Castell\", \"flipchart\":\"M3\"}\n",
    "print(dict[\"laptop\"])\n",
    "print(dict.get(\"laptop\"))"
   ]
  },
  {
   "cell_type": "markdown",
   "metadata": {},
   "source": [
    "Modificarea unui element din dicţionar se realizează prin cheie:"
   ]
  },
  {
   "cell_type": "code",
   "execution_count": null,
   "metadata": {},
   "outputs": [],
   "source": [
    "#Exemplul 41\n",
    "#dict = {\"laptop\":\"IBM\", \"creion\":\"Faber Castell\", \"flipchart\":\"M3\"}\n",
    "dict[\"laptop\"] = \"HP\"\n",
    "print(dict)"
   ]
  },
  {
   "cell_type": "markdown",
   "metadata": {},
   "source": [
    "**Metode pentru dicţionare:**\n",
    "\n",
    "|    Metoda          |    Descriere                                                                            |\n",
    "|--------------------|-----------------------------------------------------------------------------------------|\n",
    "|    clear()         |    Elimină toate elementele din dicţionar                                               |\n",
    "|    copy()          |    Returnează o copie a dicţionarului                                                   |\n",
    "|    fromkeys()      |    Returnează un dicţionar cu chei valori specificate                                   |\n",
    "|    get()           |    Returnează valoarea pentru o anumită cheie, sau None pt cheie inexistentă.                    |\n",
    "|    items()         |    Returnează o listă conţinând tupluri cu  perechi (cheie,valoare)           |\n",
    "|    keys()          |    Returnează o listă conţinând cheile dicţionarului                                    |\n",
    "|    pop()           |    Extrage elementul având o anumită cheie specificată                                  |\n",
    "|    popitem()       |    Extrage arbitrar o pereche (cheie,valoare).                                        |\n",
    "|    setdefault()    |    Returnează valoarea pentru o cheie specificată. Dacă cheia nu există, o adaugă și o asociază cu valoarea specificată (sau None)   |\n",
    "|    update()        |    Actualizează dicţionarul cu perechile cheie-valoare specificate                      |\n",
    "|    values()        |    Returnează o listă cu toate valorile dicţionarului                                   |"
   ]
  },
  {
   "cell_type": "code",
   "execution_count": 19,
   "metadata": {},
   "outputs": [
    {
     "name": "stdout",
     "output_type": "stream",
     "text": [
      "{}\n",
      "{'brand': 'Ford', 'model': 'Focus', 'an': 2005}\n",
      "{'cheie1': 0, 'cheie2': 0, 'cheie3': 0}\n",
      "Focus\n",
      "dict_items([('brand', 'Ford'), ('model', 'Focus'), ('an', 2005)])\n",
      "dict_keys(['brand', 'model', 'an'])\n",
      "{'brand': 'Ford', 'model': 'Focus'}\n",
      "{'brand': 'Ford', 'model': 'Focus'}\n",
      "Focus\n",
      "{'brand': 'Ford', 'model': 'Focus', 'an': 2005, 'color': 'black'}\n",
      "dict_values(['Ford', 'Focus', 2005])\n"
     ]
    }
   ],
   "source": [
    "#Exercițiul 0.c: creați un dicționar și utilizați câteva metode, la alegere.\n",
    "\n",
    "#clear()\n",
    "masina = {\n",
    "  \"brand\": \"Ford\",\n",
    "  \"model\": \"Focus\",\n",
    "  \"an\": 2005\n",
    "}\n",
    "masina.clear()\n",
    "print(masina)\n",
    "\n",
    "#copy()\n",
    "masina = {\n",
    "  \"brand\": \"Ford\",\n",
    "  \"model\": \"Focus\",\n",
    "  \"an\": 2005\n",
    "}\n",
    "x = masina.copy()\n",
    "print(x)\n",
    "\n",
    "#fromkeys()\n",
    "x = ('cheie1', 'cheie2', 'cheie3')\n",
    "y = 0\n",
    "z = dict.fromkeys(x, y)\n",
    "print(z)\n",
    "\n",
    "#get()\n",
    "masina = {\n",
    "  \"brand\": \"Ford\",\n",
    "  \"model\": \"Focus\",\n",
    "  \"an\": 2005\n",
    "}\n",
    "x = masina.get(\"model\")\n",
    "print(x)\n",
    "\n",
    "#items()\n",
    "masina = {\n",
    "  \"brand\": \"Ford\",\n",
    "  \"model\": \"Focus\",\n",
    "  \"an\": 2005\n",
    "}\n",
    "x = masina.items()\n",
    "print(x)\n",
    "\n",
    "#keys()\n",
    "masina = {\n",
    "  \"brand\": \"Ford\",\n",
    "  \"model\": \"Focus\",\n",
    "  \"an\": 2005\n",
    "}\n",
    "x = masina.keys()\n",
    "print(x)\n",
    "\n",
    "#pop()\n",
    "masina = {\n",
    "  \"brand\": \"Ford\",\n",
    "  \"model\": \"Focus\",\n",
    "  \"an\": 2005\n",
    "}\n",
    "masina.pop(\"an\")\n",
    "print(masina)\n",
    "\n",
    "#popitem()\n",
    "masina = {\n",
    "  \"brand\": \"Ford\",\n",
    "  \"model\": \"Focus\",\n",
    "  \"an\": 2005\n",
    "}\n",
    "masina.popitem()\n",
    "print(masina)\n",
    "\n",
    "#setdefault()\n",
    "masina = {\n",
    "  \"brand\": \"Ford\",\n",
    "  \"model\": \"Focus\",\n",
    "  \"an\": 2005\n",
    "}\n",
    "z = masina.setdefault(\"model\", \"Fiesta\")\n",
    "print(z)\n",
    "\n",
    "#update()\n",
    "masina = {\n",
    "  \"brand\": \"Ford\",\n",
    "  \"model\": \"Focus\",\n",
    "  \"an\": 2005\n",
    "}\n",
    "masina.update({\"color\": \"black\"})\n",
    "print(masina)\n",
    "\n",
    "#values()\n",
    "masina = {\n",
    "  \"brand\": \"Ford\",\n",
    "  \"model\": \"Focus\",\n",
    "  \"an\": 2005\n",
    "}\n",
    "x = masina.values()\n",
    "print(x)\n"
   ]
  },
  {
   "cell_type": "markdown",
   "metadata": {},
   "source": [
    "### 2.4 Operatori și expresii\n",
    "\n",
    "Operatori aritmetici:\n",
    "\n",
    "|    Operator    |    Denumire                        |    Exemplu    |\n",
    "|----------------|------------------------------------|---------------|\n",
    "|    +           |    Adunare                         |    x + y      |\n",
    "|    -           |    Scădere                         |    x - y      |\n",
    "|    *           |    Înmulţire                       |    x * y      |\n",
    "|    /           |    Împărţire                       |    x / y      |\n",
    "|    \\**          |    Exponenţial                     |    x \\** y     |\n",
    "|    %           |    Restul împărţirii (modulo)      |    x % y      |\n",
    "|    //          |    Partea întreagă a împărţirii    |    x // y     |\n",
    "\n",
    "Atribuire, atribuire combinată\n",
    "\n",
    "|    Operator    |    Exemplu     |    Echivalent     |\n",
    "|----------------|----------------|-------------------|\n",
    "|    =           |    x = 5       |    x = 5          |\n",
    "|    +=          |    x += 3      |    x = x + 3      |\n",
    "|    -=          |    x -= 3      |    x = x - 3      |\n",
    "|    *=          |    x *= 3      |    x = x * 3      |\n",
    "|    /=          |    x /= 3      |    x = x / 3      |\n",
    "|    %=          |    x %= 3      |    x = x % 3      |\n",
    "|    //=         |    x //= 3     |    x = x // 3     |\n",
    "|    **=         |    x **= 3     |    x = x ** 3     |\n",
    "\n",
    "Comparaţie \n",
    "\n",
    "|    Operator    |    Denumire             |    Exemplu    |\n",
    "|----------------|-------------------------|---------------|\n",
    "|    ==          |    Egal                 |    x == y     |\n",
    "|    !=          |    Diferit              |    x != y     |\n",
    "|    >           |    Mai mare             |    x > y      |\n",
    "|    <           |    Mai mic              |    x < y      |\n",
    "|    >=          |    Mai mare sau egal    |    x >= y     |\n",
    "|    <=          |    Mai mic sau egal     |    x <= y     |\n",
    "\n",
    "Operatori logici\n",
    "\n",
    "|    Operator    |    Descriere                                                                         |    Exemplu                   |\n",
    "|----------------|--------------------------------------------------------------------------------------|------------------------------|\n",
    "|    and         |    Returnează True dacă ambele expresii sunt adevărate                               |    x < 5 and  x < 10         |\n",
    "|    or          |    Returnează True dacă cel puţin o expresie este adevărată                          |    x < 5 or x < 4            |\n",
    "|    not         |    Negaţia, inversează rezultatul, returnând False dacă rezultatul este adevărat    |    not(x < 5 and x < 10)     |\n",
    "\n",
    "Identitate\n",
    "\n",
    "|    Operator    |    Descriere                                                        |    Exemplu      |\n",
    "|----------------|---------------------------------------------------------------------|-----------------|\n",
    "|    is          |    Returnează True dacă ambele variabile sunt acelaşi obiect        |    x is y       |\n",
    "|    isnot       |    Returnează True dacă ambele variabile nu sunt acelaşi obiect     |    x isnot y    |\n",
    "\n",
    "Apartenenţă \n",
    "\n",
    "|    Operator    |    Descriere                                                                                 |    Exemplu       |\n",
    "|----------------|----------------------------------------------------------------------------------------------|------------------|\n",
    "|    in          |    Returnează True dacă o secvenţă cu o valoare specificată este prezentă   în obiect        |    x in y        |\n",
    "|    not in      |    Returnează True dacă o secvenţă cu o valoare specificată nu este   prezentă în obiect     |    x not in y    |"
   ]
  },
  {
   "cell_type": "markdown",
   "metadata": {},
   "source": [
    "### 2.5 Structuri de programare\n",
    "\n",
    "În Python _indentarea este esenţială_, fiind utilizată pentru a delimita un bloc de cod.\n",
    "\n",
    "#### 2.5.1 Structura alternativă (condiționată) - **`if`**"
   ]
  },
  {
   "cell_type": "code",
   "execution_count": null,
   "metadata": {},
   "outputs": [],
   "source": [
    "#Exemplul 42\n",
    "x=-100\n",
    "#x = int(input (\"Introduceți un număr: \"))\n",
    "if x<0:\n",
    "    print('x este negativ')\n",
    "elif x==0:\n",
    "    print('x este zero')\n",
    "else:\n",
    "    print('x este pozitiv')"
   ]
  },
  {
   "cell_type": "markdown",
   "metadata": {},
   "source": [
    "Erorile de indentare pot modifica logica programului sau pot cauza chiar erori de sintaxă !"
   ]
  },
  {
   "cell_type": "code",
   "execution_count": null,
   "metadata": {},
   "outputs": [],
   "source": [
    "#Exemplul 43\n",
    "a = 1\n",
    "b = 3\n",
    "if a<b:\n",
    "print('a is lower than b') # eroare indentare"
   ]
  },
  {
   "cell_type": "markdown",
   "metadata": {},
   "source": [
    "#### 2.5.2 Structuri repetitive\n",
    "**Structura `for`:**"
   ]
  },
  {
   "cell_type": "code",
   "execution_count": null,
   "metadata": {},
   "outputs": [],
   "source": [
    "#Exemplul 44\n",
    "lista = [\"laptop\", \"creion\", \"flipchart\"]\n",
    "for elem in lista:\n",
    "    print (elem)"
   ]
  },
  {
   "cell_type": "code",
   "execution_count": null,
   "metadata": {},
   "outputs": [],
   "source": [
    "#Exemplul 45\n",
    "#lista = [\"laptop\", \"creion\", \"flipchart\"]\n",
    "for cuv in lista:\n",
    "    print (cuv[0], len(cuv))"
   ]
  },
  {
   "cell_type": "markdown",
   "metadata": {},
   "source": [
    "Instrucțiunea `break` întrerupe (termină) structura repetitivă:"
   ]
  },
  {
   "cell_type": "code",
   "execution_count": null,
   "metadata": {},
   "outputs": [],
   "source": [
    "#Exemplul 46\n",
    "lista = [\"laptop\", \"creion\", \"flipchart\"]\n",
    "for x in lista:\n",
    "    print(x)\n",
    "    if x == \"creion\":\n",
    "        break"
   ]
  },
  {
   "cell_type": "code",
   "execution_count": null,
   "metadata": {},
   "outputs": [],
   "source": [
    "#Exemplul 47\n",
    "#lista = [\"laptop\", \"creion\", \"flipchart\"]\n",
    "for x in lista:\n",
    "    if x == \"creion\":\n",
    "        break\n",
    "    print(x)"
   ]
  },
  {
   "cell_type": "markdown",
   "metadata": {},
   "source": [
    "Instrucțiunea `continue` întrerupe iterația curentă și trece la următoarea iterație."
   ]
  },
  {
   "cell_type": "code",
   "execution_count": null,
   "metadata": {},
   "outputs": [],
   "source": [
    "#Exemplul 48\n",
    "#lista = [\"laptop\", \"creion\", \"flipchart\"]\n",
    "for x in lista:\n",
    "    if x == \"creion\":\n",
    "        continue\n",
    "    print(x)"
   ]
  },
  {
   "cell_type": "markdown",
   "metadata": {},
   "source": [
    "Funcţia `range()` returnează o secvenţă de numere care poate fi folosită pentru iterare cu `for`.  \n",
    "Observați cum sunt generate secvențele:"
   ]
  },
  {
   "cell_type": "code",
   "execution_count": null,
   "metadata": {},
   "outputs": [],
   "source": [
    "#Exemplul 49\n",
    "for x in range(6):\n",
    "    print(x, end=' ')\n",
    "print()\n",
    "\n",
    "for x in range(2, 6):\n",
    "    print(x, end=' ')\n",
    "print()\n",
    "\n",
    "for x in range(2, 30, 3):\n",
    "    print(x, end=' ')\n",
    "print()"
   ]
  },
  {
   "cell_type": "markdown",
   "metadata": {},
   "source": [
    "Crearea de liste bazate pe `range()`:"
   ]
  },
  {
   "cell_type": "code",
   "execution_count": null,
   "metadata": {},
   "outputs": [],
   "source": [
    "#Exemplul 50\n",
    "print(list(range(6))) \n",
    "print(list(range(2, 6))) \n",
    "print(list(range(2, 30, 3)))"
   ]
  },
  {
   "cell_type": "markdown",
   "metadata": {},
   "source": [
    "Clauza opțională `else` clause se execută după încheierea iterațiilor din `for`."
   ]
  },
  {
   "cell_type": "code",
   "execution_count": null,
   "metadata": {},
   "outputs": [],
   "source": [
    "#Exemplul 51\n",
    "for x in range(6):\n",
    "    print(x)\n",
    "else:\n",
    "    print(\"Program ended.\")"
   ]
  },
  {
   "cell_type": "markdown",
   "metadata": {},
   "source": [
    "Struct. repetitivă imbricată (nested loop):"
   ]
  },
  {
   "cell_type": "code",
   "execution_count": null,
   "metadata": {},
   "outputs": [],
   "source": [
    "#Exemplul 52\n",
    "lista = [\"laptop\", \"creion\", \"flipchart\"]\n",
    "culori = [\"roșu\", \"galben\", \"verde\"]\n",
    "for x in lista:\n",
    "    if x =='creion' or x =='flipchart':\n",
    "        for y in culori:\n",
    "            print(x, y)"
   ]
  },
  {
   "cell_type": "markdown",
   "metadata": {},
   "source": [
    "**Structura `while`:**"
   ]
  },
  {
   "cell_type": "code",
   "execution_count": null,
   "metadata": {},
   "outputs": [],
   "source": [
    "#Exemplul 53\n",
    "i = 1\n",
    "while i < 6:\n",
    "    print(i)\n",
    "    i += 1"
   ]
  },
  {
   "cell_type": "markdown",
   "metadata": {},
   "source": [
    "`break` și `continue` pot fi utilizate ca la instr. `for`."
   ]
  },
  {
   "cell_type": "code",
   "execution_count": null,
   "metadata": {},
   "outputs": [],
   "source": [
    "#Exemplul 54\n",
    "i = 1\n",
    "while i < 6:\n",
    "    print(i)\n",
    "    if i == 3:\n",
    "        break\n",
    "    i += 1"
   ]
  },
  {
   "cell_type": "code",
   "execution_count": null,
   "metadata": {},
   "outputs": [],
   "source": [
    "#Exemplul 55\n",
    "i = 0\n",
    "while i < 6:\n",
    "    i += 1 \n",
    "    if i == 3:\n",
    "        continue\n",
    "    print(i)"
   ]
  },
  {
   "cell_type": "markdown",
   "metadata": {},
   "source": [
    "## 3. Funcții\n",
    "\n",
    "Funcțiile sunt subprograme care primesc argumente (parametri) și returnează o valoare.  \n",
    "Funcțiile pot fi apelate independent sau în expresii:  \n",
    "`var = nume_func( arg1, arg2, ...)`  \n",
    "Valoarea returnată poate fi ignorată:  \n",
    "`nume_func( arg1, arg2, ...)`\n",
    "\n",
    "Argumentele funcției pot fi poziționale sau numite (keyword arguments).\n",
    "Argumentele poziționale trebuie specificate în ordinea stabilită prin definiția funcției.  \n",
    "Argumentele numite pot fi specificate în orice ordine, dar **după** argumentele poziționale:  \n",
    "`nume_func(arg1, arg2, kwarg1=val1, kwarg2=val2)`\n",
    "\n",
    "În funcție de locul unde sunt definite, funcțiile Python pot fi:\n",
    "\n",
    "* **Funcții proprii limbajului (_built-in_)**: fac parte din limbajul standard și sunt direct accesibile.  Exemple: `print(), input(), len()`.  \n",
    "* **Funcții definite în module.** Pentru a fi accesate este necesară importarea modulului.\n",
    "* **Funcții definite de utilizator** folosind instrucțiunea `def`. Dintre acestea, funcțiile lambda sunt un caz special (cuvântul-cheie `lambda`).\n",
    "\n",
    "### 3.1. Funcții built-in\n",
    "Cîteva funcții uzuale, pe categorii:\n",
    "* I/O: `input(), print()`\n",
    "* Conversii de tip de date / constructori: `int(), float(), bool(), str(), list(), dict(), tuple(), set()`\n",
    "* Funcții matematice: `abs(), pow(), round(), bin(), oct(), hex()`\n",
    "* Funcții de prelucrare liste (iterabile): `len(), max(), min(), sum(), sorted(), reversed()`\n",
    "* Fișiere: `open()`\n",
    "* Caractere: `chr(), ord()`\n",
    "* Diverse: `type(), help(), dir()`\n",
    "Lista tuturor funcțiilor built-in se găsește [aici](https://docs.python.org/3/library/functions.html#built-in-funcs).\n",
    "\n",
    "Introducere de la tastatură   \n",
    "Funcția `input()` este utilizată pentru a prelua date de la tastatură. Returnează un șir de caractere. Valorile numerice trebuiesc convertite conform tipului (`int, float` etc.)."
   ]
  },
  {
   "cell_type": "code",
   "execution_count": null,
   "metadata": {},
   "outputs": [],
   "source": [
    "#Exemplul 56\n",
    "nume = input(\"Cum te numești ?\")\n",
    "print (\"Salut,\", nume, \"!\")"
   ]
  },
  {
   "cell_type": "code",
   "execution_count": null,
   "metadata": {},
   "outputs": [],
   "source": [
    "#Exemplul 57\n",
    "x=int(input('Introduceți un număr:'))\n",
    "if x>0:\n",
    "    print(x,'este pozitiv.')\n",
    "else:\n",
    "    print(x,'este negativ sau zero.')"
   ]
  },
  {
   "cell_type": "markdown",
   "metadata": {},
   "source": [
    "### 3.2 Funcții definite în module (biblioteci)\n",
    "\n",
    "Există o gamă largă de module disponibile pentru diverse scopuri.  \n",
    "O parte dintre ele aparțin **bibliotecii standard Python** și sunt documentate în [Python Library Reference](https://docs.python.org/3/library/index.html). \n",
    "Pe lângă acestea, există numeroase module și pachete (_packages_) disponibile în [Python Package Index](https://pypi.org/) (vezi și [lista modulelor după scopul de utilizare](https://wiki.python.org/moin/UsefulModules)).\n",
    "\n",
    "Pentru a putea folosi elementele din module (funcții, variabile, clase etc.), modulul respectiv sau componente ale sale trebuie **importate**."
   ]
  },
  {
   "cell_type": "markdown",
   "metadata": {},
   "source": [
    "Importul unui modul în ansamblul său:"
   ]
  },
  {
   "cell_type": "code",
   "execution_count": null,
   "metadata": {},
   "outputs": [],
   "source": [
    "#Exemplul 58\n",
    "import math             #import modul;\n",
    "\n",
    "print(math.sqrt(25))    #numele utilizate trebuie calificate,\n",
    "                        #de ex. modul.functie()\n",
    "print(math.pi)"
   ]
  },
  {
   "cell_type": "markdown",
   "metadata": {},
   "source": [
    "Importul anumitor elemente dintr-un modul:"
   ]
  },
  {
   "cell_type": "code",
   "execution_count": null,
   "metadata": {},
   "outputs": [],
   "source": [
    "#Exemplul 59\n",
    "from math import pi, sin, cos        #import elemente;\n",
    "print(sin(pi/2), round(cos(pi/2),2)) #nu e necesară calificarea !"
   ]
  },
  {
   "cell_type": "markdown",
   "metadata": {},
   "source": [
    "În instrucțiunea `import` se pot defini aliasuri pentru module:"
   ]
  },
  {
   "cell_type": "code",
   "execution_count": null,
   "metadata": {},
   "outputs": [],
   "source": [
    "#Exemplul 60\n",
    "import math as m, platform as p\n",
    "print(round(m.pi, 5))\n",
    "print(p.platform())"
   ]
  },
  {
   "cell_type": "markdown",
   "metadata": {},
   "source": [
    "Funcția built-in `dir()` afișază numele definite în modul."
   ]
  },
  {
   "cell_type": "code",
   "execution_count": null,
   "metadata": {},
   "outputs": [],
   "source": [
    "#Exemplul 61\n",
    "import math\n",
    "dir(math)"
   ]
  },
  {
   "cell_type": "markdown",
   "metadata": {},
   "source": [
    "### 3.3 Funcții definite de utilizator\n",
    "\n",
    "Funcțiile se definesc cu instrucțiunea `def`, urmată de numele funcției și lista argumentelor, apoi caracterul `':'`. Corpul funcției este indentat.  \n",
    "Pentru returnarea unei valori se folosește instrucțiunea `return`. În lipsa acesteia, funcția returnează implicit valoarea `None`.  \n",
    "Documentația mai detaliată privind definirea funcțiilor este disponibilă [aici](https://docs.python.org/3/tutorial/controlflow.html#defining-functions)."
   ]
  },
  {
   "cell_type": "code",
   "execution_count": null,
   "metadata": {},
   "outputs": [],
   "source": [
    "#Exemplul 62\n",
    "def func1(x): #definire funcție\n",
    "    rez = x**2\n",
    "    print (rez)\n",
    "    return rez\n",
    "\n",
    "#apelare funcție - corectați eroarea !\n",
    "func1()"
   ]
  },
  {
   "cell_type": "markdown",
   "metadata": {},
   "source": [
    "Argument cu valoare implicită 100:"
   ]
  },
  {
   "cell_type": "code",
   "execution_count": null,
   "metadata": {},
   "outputs": [],
   "source": [
    "#Exemplul 63\n",
    "def func2(x=100):\n",
    "    rez = x**2\n",
    "    print (rez)\n",
    "    return rez\n",
    "\n",
    "func2()\n",
    "y=func2(5)\n",
    "print(y)"
   ]
  },
  {
   "cell_type": "code",
   "execution_count": null,
   "metadata": {},
   "outputs": [],
   "source": [
    "#Exemplul 64\n",
    "def func3(x,n):\n",
    "    rez = x**n\n",
    "    return rez\n",
    "\n",
    "print(func3(4,3))"
   ]
  },
  {
   "cell_type": "markdown",
   "metadata": {},
   "source": [
    "Definirea unei funcții recursive:"
   ]
  },
  {
   "cell_type": "code",
   "execution_count": null,
   "metadata": {},
   "outputs": [],
   "source": [
    "#Exemplul 65\n",
    "def func_rec(k):\n",
    "    if(k>0):\n",
    "        rez = k + func_rec(k-1)\n",
    "        print(rez)\n",
    "    else:\n",
    "        rez = 0\n",
    "    return rez\n",
    "\n",
    "print(\"Apel funcție recursivă:\")\n",
    "func_rec(6)"
   ]
  },
  {
   "cell_type": "markdown",
   "metadata": {},
   "source": [
    "### 3.4 Funcții Lambda\n",
    "O funcţia lambda este o funcţie simplă, anonimă poate avea mai mulţi parametri şi o expresie, returnând rezultatul expresiei."
   ]
  },
  {
   "cell_type": "code",
   "execution_count": null,
   "metadata": {},
   "outputs": [],
   "source": [
    "#Exemplul 66\n",
    "x = lambda a : a + 10\n",
    "print(x(5))"
   ]
  },
  {
   "cell_type": "code",
   "execution_count": null,
   "metadata": {},
   "outputs": [],
   "source": [
    "#Exemplul 67\n",
    "x = lambda a, b : a * b\n",
    "print(x(5, 6))"
   ]
  },
  {
   "cell_type": "code",
   "execution_count": null,
   "metadata": {},
   "outputs": [],
   "source": [
    "#Exemplul 68\n",
    "x = lambda a, b, c : a + b + c\n",
    "print(x(5, 6, 2)) "
   ]
  },
  {
   "cell_type": "markdown",
   "metadata": {},
   "source": [
    "## Exerciţii\n",
    "\n",
    "1) În programul următor, completați expresiile pentru a calcula ora de încheiere a unei activități. Se dă ora de începere (hh - ora, mm - minute) și durata activității  în minute.\n",
    "\n",
    "**Obs.:** în codul de mai jos, metoda `str.format()`  este utilizată pentru formatarea valorilor numerice în format hh:mm (de ex. 09:35, 11:05). [Vezi detalii în documentație](https://docs.python.org/3/tutorial/inputoutput.html#the-string-format-method)."
   ]
  },
  {
   "cell_type": "code",
   "execution_count": null,
   "metadata": {},
   "outputs": [],
   "source": [
    "hh = 9 #ora de începere; testează și cu hh=23\n",
    "mm = 35\n",
    "d = 90 # durata (minute)\n",
    "\n",
    "mm2 =   #scrie o expresie pentru ora de încheiere (minute)\n",
    "hh2 =   #scrie o expresie pentru ora de încheiere (ora)\n",
    "\n",
    "print('Activitatea începe la: {:02d}:{:02d} și durează {} minute.'.format(hh,mm,d))\n",
    "print('Activitatea se încheie la: {:02d}:{:02d}.'.format(hh2,mm2))"
   ]
  },
  {
   "cell_type": "markdown",
   "metadata": {},
   "source": [
    "2) Să se citească un număr n < 10, să se creeze o listă de numere întregi, cu dimensiunea n şi să se adauge elementele citite de la tastatură. Să se ordoneze crescător elementele listei şi să se afişeze lista."
   ]
  },
  {
   "cell_type": "code",
   "execution_count": 3,
   "metadata": {},
   "outputs": [
    {
     "name": "stdin",
     "output_type": "stream",
     "text": [
      "Introduceți numărul de elemente:  5\n",
      "Introduceți elementul 1:  3\n",
      "Introduceți elementul 2:  6\n",
      "Introduceți elementul 3:  19\n",
      "Introduceți elementul 4:  0\n",
      "Introduceți elementul 5:  5\n"
     ]
    },
    {
     "name": "stdout",
     "output_type": "stream",
     "text": [
      "Lista ordonată crescător este: [0, 3, 5, 6, 19]\n"
     ]
    }
   ],
   "source": [
    "#Scrie codul aici:\n",
    "n = int(input(\"Introduceți numărul de elemente: \"))\n",
    "lista = []\n",
    "for i in range(n):\n",
    "    lista.append(int(input(\"Introduceți elementul {}: \".format(i+1))))\n",
    "\n",
    "lista.sort()\n",
    "print(\"Lista ordonată crescător este:\", lista)\n",
    "    \n"
   ]
  },
  {
   "cell_type": "markdown",
   "metadata": {},
   "source": [
    "3) Să se creeze o listă de 5 elemente cu denumirile unor oraşe. Să se afişeze lista ordonată descrescător după lungimea șirului, utilizând opţiunile metodei 'sort()' - o funcție ce returnează lungimea șirului utilizată ca cheie de sortare.  \n",
    "Să se afișeze lista sortată.\n",
    "\n",
    "_Documentație list.sort():  \n",
    "list.sort(reverse=True|False, key=myFunc)   \n",
    "reverse Optional. reverse=True will sort the list descending. Default is reverse=False  \n",
    "key Optional. A function to specify the sorting criteria(s)_"
   ]
  },
  {
   "cell_type": "code",
   "execution_count": 6,
   "metadata": {},
   "outputs": [
    {
     "name": "stdout",
     "output_type": "stream",
     "text": [
      "Help on method_descriptor:\n",
      "\n",
      "sort(self, /, *, key=None, reverse=False)\n",
      "    Stable sort *IN PLACE*.\n",
      "\n",
      "Lista ordonată descrescător după lungimea șirului este: ['Cluj-Napoca', 'Targoviste', 'Bucuresti', 'Craiova', 'Oradea']\n"
     ]
    }
   ],
   "source": [
    "help(list.sort)\n",
    "\n",
    "#Scrie codul aici:\n",
    "orase = ['Oradea', 'Cluj-Napoca', 'Targoviste', 'Craiova', 'Bucuresti']\n",
    "\n",
    "orase.sort(reverse=True, key=len)\n",
    "\n",
    "print(\"Lista ordonată descrescător după lungimea șirului este:\", orase)"
   ]
  },
  {
   "cell_type": "markdown",
   "metadata": {},
   "source": [
    "4) Să se creeze o listă de liste cu denumiri de echipamente IT, preţul şi cantitatea acestora. Calculaţi valoarea fiecărui echipament, adăugaţi-o în listă şi sortaţi în funcţie de valoare. (sugestie: folosiți metoda `list.sort()` și o funcție lambda ca cheie de sortare)."
   ]
  },
  {
   "cell_type": "code",
   "execution_count": 1,
   "metadata": {},
   "outputs": [
    {
     "name": "stdout",
     "output_type": "stream",
     "text": [
      "Lista de echipamente IT sortata in functie de valoare:\n",
      "['Mouse', 50, 30, 1500]\n",
      "['Tastatura', 150, 20, 3000]\n",
      "['Desktop', 3000, 3, 9000]\n",
      "['Monitor', 1000, 10, 10000]\n",
      "['Laptop', 2500, 5, 12500]\n"
     ]
    }
   ],
   "source": [
    "#Scrie codul aici:\n",
    "echipamente_IT = [\n",
    "    [\"Laptop\", 2500, 5],\n",
    "    [\"Desktop\", 3000, 3],\n",
    "    [\"Monitor\", 1000, 10],\n",
    "    [\"Tastatura\", 150, 20],\n",
    "    [\"Mouse\", 50, 30]\n",
    "]\n",
    "for echipament in echipamente_IT:\n",
    "    valoare = echipament[1] * echipament[2]\n",
    "    echipament.append(valoare)\n",
    "echipamente_IT.sort(key=lambda x: x[3])\n",
    "print(\"Lista de echipamente IT sortata in functie de valoare:\")\n",
    "for echipament in echipamente_IT:\n",
    "    print(echipament)\n"
   ]
  },
  {
   "cell_type": "markdown",
   "metadata": {},
   "source": [
    "5) Să se creeze două liste: lista_angajati cu numele şi prenumele angajaţilor şi lista_clienti cu numele şi prenumele clienţilor.  \n",
    "a. Să se afişeze numele angajaților care sunt şi clienți.  \n",
    "b. Rezolvați tema folosind seturi și operații specifice acestora."
   ]
  },
  {
   "cell_type": "code",
   "execution_count": 11,
   "metadata": {},
   "outputs": [
    {
     "name": "stdout",
     "output_type": "stream",
     "text": [
      "Popa Aurelia\n",
      "Grigore Maria\n",
      "Popa Aurelia\n",
      "Grigore Maria\n"
     ]
    }
   ],
   "source": [
    "#Scrie codul aici:\n",
    "lista_angajati = [\"Popa Aurelia\", \"Gavrila Teodora\", \"Grigore Maria\", \"Mihai Ovidiu\"]\n",
    "lista_clienti = [\"Popa Aurelia\", \"Grigore Maria\", \"Turcu Camelia\"]\n",
    "\n",
    "#a\n",
    "for angajat in lista_angajati:\n",
    "    if angajat in lista_clienti:\n",
    "        print(angajat)\n",
    "\n",
    "#b\n",
    "angajati_set = set(lista_angajati)\n",
    "clienti_set = set(lista_clienti)\n",
    "\n",
    "intersectie = angajati_set.intersection(clienti_set)\n",
    "\n",
    "for angajat in intersectie:\n",
    "    print(angajat)\n",
    "\n"
   ]
  },
  {
   "cell_type": "markdown",
   "metadata": {},
   "source": [
    "6) Să se creeze o listă de dicţionare cu următoarele chei: id, nume şi salariu pentru următorii angajaţi: Popescu, Ionescu, Vasilescu.  \n",
    "Dacă angajaţii au salariul mai mic decât 5000, să se majoreze salariul cu 10%."
   ]
  },
  {
   "cell_type": "code",
   "execution_count": 8,
   "metadata": {},
   "outputs": [
    {
     "name": "stdout",
     "output_type": "stream",
     "text": [
      "[{'id': 1, 'nume': 'Popescu', 'salariu': 4510.0}, {'id': 2, 'nume': 'Ionescu', 'salariu': 6700}, {'id': 3, 'nume': 'Vasilescu', 'salariu': 2530.0}]\n"
     ]
    }
   ],
   "source": [
    "#Scrie codul aici:\n",
    "angajati = [\n",
    "    {'id': 1, 'nume': 'Popescu', 'salariu': 4100},\n",
    "    {'id': 2, 'nume': 'Ionescu', 'salariu': 6700},\n",
    "    {'id': 3, 'nume': 'Vasilescu', 'salariu': 2300}\n",
    "]\n",
    "\n",
    "for angajat in angajati:\n",
    "    if angajat['salariu'] < 5000:\n",
    "        angajat['salariu'] *= 1.1\n",
    "\n",
    "print(angajati)\n"
   ]
  }
 ],
 "metadata": {
  "kernelspec": {
   "display_name": "Python 3 (ipykernel)",
   "language": "python",
   "name": "python3"
  },
  "language_info": {
   "codemirror_mode": {
    "name": "ipython",
    "version": 3
   },
   "file_extension": ".py",
   "mimetype": "text/x-python",
   "name": "python",
   "nbconvert_exporter": "python",
   "pygments_lexer": "ipython3",
   "version": "3.7.12"
  }
 },
 "nbformat": 4,
 "nbformat_minor": 4
}
